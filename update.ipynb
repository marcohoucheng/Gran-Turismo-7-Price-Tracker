{
 "cells": [
  {
   "cell_type": "markdown",
   "metadata": {},
   "source": [
    "# Update DB Script\n",
    "\n",
    "Use this to update the pre-exisiting local db\n",
    "\n",
    "It should only update the db if the timestamp is outdated\n",
    "\n",
    "If it is outdated then\n",
    "- Find out how many days we need to update\n",
    "- i.e. compare local timestamp vs json timestamp"
   ]
  },
  {
   "cell_type": "markdown",
   "metadata": {},
   "source": [
    "We now have a database for historic prices locally, we need to access json file to update (on the left) our database with new prices.\n",
    "\n",
    "For cars not in database before, access Github to find car model and manufacturer...\n",
    "\n",
    "We can use `data['updatetimestamp']` to check the last update time"
   ]
  },
  {
   "cell_type": "markdown",
   "metadata": {},
   "source": []
  }
 ],
 "metadata": {
  "language_info": {
   "name": "python"
  }
 },
 "nbformat": 4,
 "nbformat_minor": 2
}
