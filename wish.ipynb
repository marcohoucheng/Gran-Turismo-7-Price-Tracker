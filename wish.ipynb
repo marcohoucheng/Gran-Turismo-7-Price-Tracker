{
 "cells": [
  {
   "cell_type": "code",
   "execution_count": 1,
   "metadata": {},
   "outputs": [],
   "source": [
    "import urllib.request, json, os, sys, datetime\n",
    "import pandas as pd"
   ]
  },
  {
   "cell_type": "code",
   "execution_count": null,
   "metadata": {},
   "outputs": [],
   "source": [
    "# Store the list of cars ID\n",
    "# Separate these IDs into 3 tables (Central, Legend, Used)\n",
    "# Get latest price, when it was last in shops, and estimate days\n",
    "# Create a markdown?"
   ]
  },
  {
   "cell_type": "code",
   "execution_count": 22,
   "metadata": {},
   "outputs": [],
   "source": [
    "# list of cars from the game\n",
    "wish = [216,773,810,1565,1984,2167,3362]\n",
    "wish = pd.DataFrame(wish).astype(str)"
   ]
  },
  {
   "cell_type": "code",
   "execution_count": 4,
   "metadata": {},
   "outputs": [],
   "source": [
    "shops = pd.read_csv(\"./data/shop.csv\")\n",
    "shops['id'] = shops['id'].astype(str)\n",
    "shops.set_index('id', inplace=True)"
   ]
  },
  {
   "cell_type": "code",
   "execution_count": 38,
   "metadata": {},
   "outputs": [],
   "source": [
    "# Check if the cars are in the shops\n",
    "wish_used = wish[wish.isin(shops[shops['used']].index)].dropna()\n",
    "wish_legend = wish[wish.isin(shops[shops['legend']].index)].dropna()"
   ]
  },
  {
   "cell_type": "code",
   "execution_count": 33,
   "metadata": {},
   "outputs": [],
   "source": [
    "# load legend db\n",
    "if not(os.path.exists(\"./data/legend_historic.csv\")):\n",
    "    print(\"legend shop DB not found in the data folder.\\nPlease run build.py to create a new DB.\")\n",
    "    # return 0\n",
    "\n",
    "legend_db = pd.read_csv(\"./data/legend_historic.csv\")\n",
    "legend_db['id'] = legend_db['id'].astype(str)\n",
    "legend_db.set_index('id', inplace=True)\n",
    "cols = legend_db.columns.tolist()\n",
    "legend_db[cols[3:-3]] = legend_db[cols[3:-3]].astype('Int64')"
   ]
  },
  {
   "cell_type": "code",
   "execution_count": 73,
   "metadata": {},
   "outputs": [
    {
     "name": "stdout",
     "output_type": "stream",
     "text": [
      "0  was in the shop last on 23-12-31\n",
      "1  was in the shop last on 24-01-14\n",
      "2  was in the shop last on 24-02-11\n",
      "3  was in the shop last on 23-12-10\n"
     ]
    }
   ],
   "source": [
    "for car in range(wish_legend.size):\n",
    "    last_avail = legend_db.loc[[wish_legend[0].tolist()[car]]].dropna(axis=1, how='all').columns.tolist()[3]\n",
    "    if last_avail == datetime.date.today().strftime(\"%y-%m-%d\"):\n",
    "        print(car, \" is in the shop today\")\n",
    "    else:\n",
    "        print(car, \" was in the shop last on \" + last_avail)"
   ]
  },
  {
   "cell_type": "code",
   "execution_count": 71,
   "metadata": {},
   "outputs": [
    {
     "data": {
      "text/plain": [
       "'24-02-22'"
      ]
     },
     "execution_count": 71,
     "metadata": {},
     "output_type": "execute_result"
    }
   ],
   "source": []
  },
  {
   "cell_type": "code",
   "execution_count": 31,
   "metadata": {},
   "outputs": [
    {
     "data": {
      "text/plain": [
       "0"
      ]
     },
     "execution_count": 31,
     "metadata": {},
     "output_type": "execute_result"
    }
   ],
   "source": [
    "# read db to see availability (for used and legendary)\n",
    "## read local db and search\n",
    "## if car unavailable, return last available date"
   ]
  }
 ],
 "metadata": {
  "kernelspec": {
   "display_name": "Python 3",
   "language": "python",
   "name": "python3"
  },
  "language_info": {
   "codemirror_mode": {
    "name": "ipython",
    "version": 3
   },
   "file_extension": ".py",
   "mimetype": "text/x-python",
   "name": "python",
   "nbconvert_exporter": "python",
   "pygments_lexer": "ipython3",
   "version": "3.9.16"
  }
 },
 "nbformat": 4,
 "nbformat_minor": 2
}
