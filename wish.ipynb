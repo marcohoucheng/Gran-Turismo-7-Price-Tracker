{
 "cells": [
  {
   "cell_type": "code",
   "execution_count": 1,
   "metadata": {},
   "outputs": [],
   "source": [
    "import urllib.request, json, os, sys, datetime\n",
    "import pandas as pd\n",
    "import ipywidgets as widgets"
   ]
  },
  {
   "cell_type": "code",
   "execution_count": 2,
   "metadata": {},
   "outputs": [],
   "source": [
    "# Build the car -> ID table\n",
    "cars = pd.read_csv(\"https://raw.githubusercontent.com/ddm999/gt7info/web-new/_data/db/cars.csv\")\n",
    "makers = pd.read_csv(\"https://raw.githubusercontent.com/ddm999/gt7info/web-new/_data/db/maker.csv\")\n",
    "\n",
    "cars = cars.rename({'ID': 'id', 'ShortName': 'Model'}, axis='columns')\n",
    "cars['id'] = cars['id'].map(str)\n",
    "cars['Maker'] = cars['Maker'].map(str)\n",
    "cars.set_index('id', inplace=True)\n",
    "\n",
    "makers = makers.rename({'ID': 'id', 'Name': 'Manufacturer', 'Country': 'Country Code'}, axis='columns')\n",
    "makers['id'] = makers['id'].map(str)\n",
    "makers['Country Code'] = makers['Country Code'].map(str)\n",
    "makers.set_index('id', inplace=True)\n",
    "\n",
    "tab = pd.merge(cars, makers, how='left', left_on='Maker', right_index=True)\n",
    "tab = tab[['Manufacturer', 'Model']].sort_values(by=['Manufacturer', 'Model'])"
   ]
  },
  {
   "cell_type": "code",
   "execution_count": 23,
   "metadata": {},
   "outputs": [
    {
     "data": {
      "application/vnd.jupyter.widget-view+json": {
       "model_id": "caaf7447888240289858518eb97ab9be",
       "version_major": 2,
       "version_minor": 0
      },
      "text/plain": [
       "interactive(children=(Dropdown(description='Manufacturer:', options=('AMG', 'Abarth', 'Alfa Romeo', 'Alpine', …"
      ]
     },
     "metadata": {},
     "output_type": "display_data"
    },
    {
     "data": {
      "application/vnd.jupyter.widget-view+json": {
       "model_id": "2b69469b860d4548a15d9e6d37ce9889",
       "version_major": 2,
       "version_minor": 0
      },
      "text/plain": [
       "Dropdown(description='Model:', options=(\"300 SEL 6.8 AMG '71\", \"A 45 AMG '13\", \"GT3 '20\", \"Mercedes-AMG C 63 S…"
      ]
     },
     "metadata": {},
     "output_type": "display_data"
    },
    {
     "name": "stdout",
     "output_type": "stream",
     "text": [
      "Selected Model: V12 Vantage GT3 '12\n"
     ]
    }
   ],
   "source": [
    "selected_list = []\n",
    "\n",
    "# Get unique manufacturers\n",
    "manufacturers = tab['Manufacturer'].unique()\n",
    "\n",
    "# Create dropdown widgets\n",
    "manufacturer_dropdown = widgets.Dropdown(\n",
    "    options=manufacturers,\n",
    "    description='Manufacturer:'\n",
    ")\n",
    "\n",
    "# Define a function to update models dropdown based on selected manufacturer\n",
    "def update_models_dropdown(manufacturer):\n",
    "    models = tab[tab['Manufacturer'] == manufacturer]['Model'].unique()\n",
    "    models_dropdown.options = models\n",
    "\n",
    "# Create initial models dropdown based on first manufacturer\n",
    "initial_models = tab[tab['Manufacturer'] == manufacturers[0]]['Model'].unique()\n",
    "models_dropdown = widgets.Dropdown(\n",
    "    options=initial_models,\n",
    "    description='Model:'\n",
    ")\n",
    "\n",
    "# Use interact to dynamically update models dropdown based on selected manufacturer\n",
    "widgets.interact(update_models_dropdown, manufacturer=manufacturer_dropdown)\n",
    "\n",
    "# Display models dropdown\n",
    "display(models_dropdown)\n",
    "\n",
    "# Function to return selected model\n",
    "selected_model_output = widgets.Output()\n",
    "\n",
    "def get_selected_model(change):\n",
    "    selected_list.append(change.new)\n",
    "    print(\"Selected Model:\", change.new)\n",
    "\n",
    "# Register the function to be called when the models dropdown value changes\n",
    "models_dropdown.observe(get_selected_model, names='value')\n"
   ]
  },
  {
   "cell_type": "code",
   "execution_count": null,
   "metadata": {},
   "outputs": [],
   "source": [
    "# Store the list of cars ID\n",
    "# Separate these IDs into 3 tables (Central, Legend, Used)\n",
    "# Get latest price, when it was last in shops, and estimate days\n",
    "# Create a markdown?"
   ]
  }
 ],
 "metadata": {
  "kernelspec": {
   "display_name": "Python 3",
   "language": "python",
   "name": "python3"
  },
  "language_info": {
   "codemirror_mode": {
    "name": "ipython",
    "version": 3
   },
   "file_extension": ".py",
   "mimetype": "text/x-python",
   "name": "python",
   "nbconvert_exporter": "python",
   "pygments_lexer": "ipython3",
   "version": "3.9.16"
  }
 },
 "nbformat": 4,
 "nbformat_minor": 2
}
