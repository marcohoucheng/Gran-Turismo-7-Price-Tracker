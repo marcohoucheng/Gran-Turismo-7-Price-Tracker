{
 "cells": [
  {
   "cell_type": "code",
   "execution_count": 1,
   "metadata": {},
   "outputs": [],
   "source": [
    "import urllib.request, json, os, sys, datetime\n",
    "import pandas as pd"
   ]
  },
  {
   "cell_type": "code",
   "execution_count": null,
   "metadata": {},
   "outputs": [],
   "source": [
    "# Store the list of cars ID\n",
    "# Separate these IDs into 3 tables (Central, Legend, Used)\n",
    "# Get latest price, when it was last in shops, and estimate days\n",
    "# Create a markdown?"
   ]
  },
  {
   "cell_type": "code",
   "execution_count": 22,
   "metadata": {},
   "outputs": [],
   "source": [
    "# list of cars from the game\n",
    "wish = [216,773,810,1565,1984,2167,3362]\n",
    "wish = pd.DataFrame(wish).astype(str)"
   ]
  },
  {
   "cell_type": "code",
   "execution_count": 4,
   "metadata": {},
   "outputs": [],
   "source": [
    "shops = pd.read_csv(\"./data/shop.csv\")\n",
    "shops['id'] = shops['id'].astype(str)\n",
    "shops.set_index('id', inplace=True)"
   ]
  },
  {
   "cell_type": "code",
   "execution_count": 38,
   "metadata": {},
   "outputs": [],
   "source": [
    "# Check if the cars are in the shops\n",
    "wish_used = wish[wish.isin(shops[shops['used']].index)].dropna()\n",
    "wish_legend = wish[wish.isin(shops[shops['legend']].index)].dropna()"
   ]
  },
  {
   "cell_type": "code",
   "execution_count": 77,
   "metadata": {},
   "outputs": [],
   "source": [
    "cars = pd.read_csv(\"./data/cars.csv\")\n",
    "cars['id'] = cars['id'].astype(str)\n",
    "cars.set_index('id', inplace=True)"
   ]
  },
  {
   "cell_type": "code",
   "execution_count": 33,
   "metadata": {},
   "outputs": [],
   "source": [
    "# load legend db\n",
    "if not(os.path.exists(\"./data/legend_historic.csv\")):\n",
    "    print(\"legend shop DB not found in the data folder.\\nPlease run build.py to create a new DB.\")\n",
    "    # return 0\n",
    "\n",
    "legend_db = pd.read_csv(\"./data/legend_historic.csv\")\n",
    "legend_db['id'] = legend_db['id'].astype(str)\n",
    "legend_db.set_index('id', inplace=True)\n",
    "cols = legend_db.columns.tolist()\n",
    "legend_db[cols[3:-3]] = legend_db[cols[3:-3]].astype('Int64')"
   ]
  },
  {
   "cell_type": "code",
   "execution_count": 95,
   "metadata": {},
   "outputs": [
    {
     "name": "stdout",
     "output_type": "stream",
     "text": [
      "BMW McLaren F1 GTR Race Car '97  was last in the shop on 23-12-31 at price 14000000 cr.\n",
      "Ford Mark IV Race Car '67  was last in the shop on 24-01-14 at price 6750000 cr.\n",
      "McLaren McLaren F1 GTR - BMW '95  was last in the shop on 24-02-11 at price 15000000 cr.\n",
      "Ferrari F50 '95  was last in the shop on 23-12-10 at price 4750000 cr.\n"
     ]
    }
   ],
   "source": [
    "for car in range(wish_legend.size):\n",
    "    car_id = wish_legend[0].tolist()[car]\n",
    "    car_info = cars.loc[car_id]\n",
    "    prices = legend_db.loc[[car_id]].dropna(axis=1, how='all')\n",
    "    last_avail = prices.columns.tolist()[3]\n",
    "    if last_avail == datetime.date.today().strftime(\"%y-%m-%d\"):\n",
    "        print(car_info[0] + \" \" + car_info[1], \" is in the shop today at price\", int(prices[last_avail]), \"cr.\")\n",
    "    else:\n",
    "        print(car_info[0] + \" \" + car_info[1], \" was last in the legend shop on \" + last_avail + \" at price\", int(prices[last_avail]), \"cr.\")"
   ]
  },
  {
   "cell_type": "code",
   "execution_count": 96,
   "metadata": {},
   "outputs": [
    {
     "name": "stdout",
     "output_type": "stream",
     "text": [
      "Nissan R32 GT-R V-spec II '94  was last in the legend shop on 24-02-20 at price 179900 cr.\n",
      "Toyota Sprinter Trueno 1600GT APEX (AE86) '83  was last in the legend shop on 24-02-02 at price 52100 cr.\n"
     ]
    }
   ],
   "source": [
    "# load used db\n",
    "if not(os.path.exists(\"./data/used_historic.csv\")):\n",
    "    print(\"legend shop DB not found in the data folder.\\nPlease run build.py to create a new DB.\")\n",
    "    # return 0\n",
    "\n",
    "used_db = pd.read_csv(\"./data/used_historic.csv\")\n",
    "used_db['id'] = used_db['id'].astype(str)\n",
    "used_db.set_index('id', inplace=True)\n",
    "cols = used_db.columns.tolist()\n",
    "used_db[cols[3:-3]] = used_db[cols[3:-3]].astype('Int64')\n",
    "\n",
    "for car in range(wish_used.size):\n",
    "    car_id = wish_used[0].tolist()[car]\n",
    "    car_info = cars.loc[car_id]\n",
    "    prices = used_db.loc[[car_id]].dropna(axis=1, how='all')\n",
    "    last_avail = prices.columns.tolist()[3]\n",
    "    if last_avail == datetime.date.today().strftime(\"%y-%m-%d\"):\n",
    "        print(car_info[0] + \" \" + car_info[1], \" is in the shop today at price\", int(prices[last_avail]), \"cr.\")\n",
    "    else:\n",
    "        print(car_info[0] + \" \" + car_info[1], \" was last in the used shop on \" + last_avail + \" at price\", int(prices[last_avail]), \"cr.\")"
   ]
  },
  {
   "cell_type": "code",
   "execution_count": null,
   "metadata": {},
   "outputs": [],
   "source": []
  }
 ],
 "metadata": {
  "kernelspec": {
   "display_name": "Python 3",
   "language": "python",
   "name": "python3"
  },
  "language_info": {
   "codemirror_mode": {
    "name": "ipython",
    "version": 3
   },
   "file_extension": ".py",
   "mimetype": "text/x-python",
   "name": "python",
   "nbconvert_exporter": "python",
   "pygments_lexer": "ipython3",
   "version": "3.9.16"
  }
 },
 "nbformat": 4,
 "nbformat_minor": 2
}
