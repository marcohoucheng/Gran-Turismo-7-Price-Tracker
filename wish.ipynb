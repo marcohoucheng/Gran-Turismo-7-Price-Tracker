{
 "cells": [
  {
   "cell_type": "code",
   "execution_count": 1,
   "metadata": {},
   "outputs": [],
   "source": [
    "import urllib.request, json, os, sys, datetime\n",
    "import pandas as pd\n",
    "import ipywidgets as widgets"
   ]
  },
  {
   "cell_type": "code",
   "execution_count": 2,
   "metadata": {},
   "outputs": [],
   "source": [
    "# Build the car -> ID table\n",
    "cars = pd.read_csv(\"https://raw.githubusercontent.com/ddm999/gt7info/web-new/_data/db/cars.csv\")\n",
    "makers = pd.read_csv(\"https://raw.githubusercontent.com/ddm999/gt7info/web-new/_data/db/maker.csv\")\n",
    "\n",
    "cars = cars.rename({'ID': 'id', 'ShortName': 'Model'}, axis='columns')\n",
    "cars['id'] = cars['id'].map(str)\n",
    "cars['Maker'] = cars['Maker'].map(str)\n",
    "cars.set_index('id', inplace=True)\n",
    "\n",
    "makers = makers.rename({'ID': 'id', 'Name': 'Manufacturer', 'Country': 'Country Code'}, axis='columns')\n",
    "makers['id'] = makers['id'].map(str)\n",
    "makers['Country Code'] = makers['Country Code'].map(str)\n",
    "makers.set_index('id', inplace=True)\n",
    "\n",
    "tab = pd.merge(cars, makers, how='left', left_on='Maker', right_index=True)\n",
    "tab = tab[['Manufacturer', 'Model']].sort_values(by=['Manufacturer', 'Model'])"
   ]
  },
  {
   "cell_type": "code",
   "execution_count": null,
   "metadata": {},
   "outputs": [],
   "source": [
    "# Store the list of cars ID\n",
    "# Separate these IDs into 3 tables (Central, Legend, Used)\n",
    "# Get latest price, when it was last in shops, and estimate days\n",
    "# Create a markdown?"
   ]
  },
  {
   "cell_type": "code",
   "execution_count": null,
   "metadata": {},
   "outputs": [],
   "source": [
    "# list of cars from the game\n",
    "selected_list = [216,773,810,1565,1984,2167,3362]\n",
    "\n",
    "# build a db of where cars belong\n",
    "\n",
    "# read json to see availability\n",
    "\n",
    "# Otherwise, read db to see when they were last available and in which shop\n",
    "\n"
   ]
  }
 ],
 "metadata": {
  "kernelspec": {
   "display_name": "Python 3",
   "language": "python",
   "name": "python3"
  },
  "language_info": {
   "codemirror_mode": {
    "name": "ipython",
    "version": 3
   },
   "file_extension": ".py",
   "mimetype": "text/x-python",
   "name": "python",
   "nbconvert_exporter": "python",
   "pygments_lexer": "ipython3",
   "version": "3.9.16"
  }
 },
 "nbformat": 4,
 "nbformat_minor": 2
}
