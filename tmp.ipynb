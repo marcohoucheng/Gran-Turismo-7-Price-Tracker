{
 "cells": [
  {
   "cell_type": "markdown",
   "metadata": {},
   "source": [
    "# This file is for testing only"
   ]
  },
  {
   "cell_type": "code",
   "execution_count": 2,
   "metadata": {},
   "outputs": [],
   "source": [
    "import urllib.request, json, os, sys, datetime\n",
    "import pandas as pd\n",
    "\n",
    "shop = 'legend'"
   ]
  },
  {
   "cell_type": "code",
   "execution_count": 19,
   "metadata": {},
   "outputs": [],
   "source": [
    "# Build the car -> ID table\n"
   ]
  },
  {
   "cell_type": "code",
   "execution_count": 20,
   "metadata": {},
   "outputs": [
    {
     "data": {
      "text/html": [
       "<div>\n",
       "<style scoped>\n",
       "    .dataframe tbody tr th:only-of-type {\n",
       "        vertical-align: middle;\n",
       "    }\n",
       "\n",
       "    .dataframe tbody tr th {\n",
       "        vertical-align: top;\n",
       "    }\n",
       "\n",
       "    .dataframe thead th {\n",
       "        text-align: right;\n",
       "    }\n",
       "</style>\n",
       "<table border=\"1\" class=\"dataframe\">\n",
       "  <thead>\n",
       "    <tr style=\"text-align: right;\">\n",
       "      <th></th>\n",
       "      <th>Manufacturer</th>\n",
       "      <th>Model</th>\n",
       "    </tr>\n",
       "    <tr>\n",
       "      <th>id</th>\n",
       "      <th></th>\n",
       "      <th></th>\n",
       "    </tr>\n",
       "  </thead>\n",
       "  <tbody>\n",
       "    <tr>\n",
       "      <th>3388</th>\n",
       "      <td>AMG</td>\n",
       "      <td>300 SEL 6.8 AMG '71</td>\n",
       "    </tr>\n",
       "    <tr>\n",
       "      <th>2170</th>\n",
       "      <td>AMG</td>\n",
       "      <td>A 45 AMG '13</td>\n",
       "    </tr>\n",
       "    <tr>\n",
       "      <th>3531</th>\n",
       "      <td>AMG</td>\n",
       "      <td>GT3 '20</td>\n",
       "    </tr>\n",
       "    <tr>\n",
       "      <th>3458</th>\n",
       "      <td>AMG</td>\n",
       "      <td>Mercedes-AMG C 63 S '15</td>\n",
       "    </tr>\n",
       "    <tr>\n",
       "      <th>3485</th>\n",
       "      <td>AMG</td>\n",
       "      <td>Mercedes-AMG GT Black Series '20</td>\n",
       "    </tr>\n",
       "    <tr>\n",
       "      <th>...</th>\n",
       "      <td>...</td>\n",
       "      <td>...</td>\n",
       "    </tr>\n",
       "    <tr>\n",
       "      <th>1773</th>\n",
       "      <td>Volkswagen</td>\n",
       "      <td>Scirocco R '10</td>\n",
       "    </tr>\n",
       "    <tr>\n",
       "      <th>1778</th>\n",
       "      <td>Volkswagen</td>\n",
       "      <td>Volkswagen 1200 '66</td>\n",
       "    </tr>\n",
       "    <tr>\n",
       "      <th>2192</th>\n",
       "      <td>Volkswagen</td>\n",
       "      <td>Volkswagen GTI VGT (Gr.3)</td>\n",
       "    </tr>\n",
       "    <tr>\n",
       "      <th>3423</th>\n",
       "      <td>Wicked Fabrication</td>\n",
       "      <td>Wicked Fabrication GT 51</td>\n",
       "    </tr>\n",
       "    <tr>\n",
       "      <th>2122</th>\n",
       "      <td>Zagato</td>\n",
       "      <td>IsoRivolta Zagato VGT</td>\n",
       "    </tr>\n",
       "  </tbody>\n",
       "</table>\n",
       "<p>495 rows × 2 columns</p>\n",
       "</div>"
      ],
      "text/plain": [
       "            Manufacturer                             Model\n",
       "id                                                        \n",
       "3388                 AMG               300 SEL 6.8 AMG '71\n",
       "2170                 AMG                      A 45 AMG '13\n",
       "3531                 AMG                           GT3 '20\n",
       "3458                 AMG           Mercedes-AMG C 63 S '15\n",
       "3485                 AMG  Mercedes-AMG GT Black Series '20\n",
       "...                  ...                               ...\n",
       "1773          Volkswagen                    Scirocco R '10\n",
       "1778          Volkswagen               Volkswagen 1200 '66\n",
       "2192          Volkswagen         Volkswagen GTI VGT (Gr.3)\n",
       "3423  Wicked Fabrication          Wicked Fabrication GT 51\n",
       "2122              Zagato             IsoRivolta Zagato VGT\n",
       "\n",
       "[495 rows x 2 columns]"
      ]
     },
     "execution_count": 20,
     "metadata": {},
     "output_type": "execute_result"
    }
   ],
   "source": [
    "tab"
   ]
  },
  {
   "cell_type": "code",
   "execution_count": null,
   "metadata": {},
   "outputs": [],
   "source": []
  }
 ],
 "metadata": {
  "kernelspec": {
   "display_name": "Python 3",
   "language": "python",
   "name": "python3"
  },
  "language_info": {
   "codemirror_mode": {
    "name": "ipython",
    "version": 3
   },
   "file_extension": ".py",
   "mimetype": "text/x-python",
   "name": "python",
   "nbconvert_exporter": "python",
   "pygments_lexer": "ipython3",
   "version": "3.9.16"
  }
 },
 "nbformat": 4,
 "nbformat_minor": 2
}
